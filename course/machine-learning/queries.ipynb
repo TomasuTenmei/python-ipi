{
 "cells": [
  {
   "cell_type": "code",
   "execution_count": 84,
   "metadata": {},
   "outputs": [
    {
     "name": "stdout",
     "output_type": "stream",
     "text": [
      "[[7.9828895]]\n"
     ]
    }
   ],
   "source": [
    "import pandas as pd\n",
    "import sqldf\n",
    "\n",
    "df = pd.read_csv('./data/vgsales.csv')\n",
    "\n",
    "listeGames = df.values\n",
    "describeSales = df.describe()\n",
    "\n",
    "def getGamesByPlatform(platform):\n",
    "    \n",
    "    liste = []\n",
    "    \n",
    "    for i in range(len(listeGames)):\n",
    "    \n",
    "        if listeGames[i][2] == platform:\n",
    "            \n",
    "            liste.append(listeGames[i])\n",
    "            \n",
    "    return liste\n",
    "    \n",
    "def getMaxSalesJapan():\n",
    "    \n",
    "    total = 0\n",
    "    \n",
    "    for i in range(len(listeGames)):\n",
    "    \n",
    "        total += listeGames[i][9]\n",
    "            \n",
    "    return total\n",
    "\n",
    "def getReleaseSince(year):\n",
    "    \n",
    "    liste = []\n",
    "    \n",
    "    for i in range(len(listeGames)):\n",
    "    \n",
    "        if listeGames[i][3] >= year:\n",
    "            \n",
    "            liste.append(listeGames[i])\n",
    "            \n",
    "    return len(liste)\n",
    "\n",
    "def getPercentageGameByPlatform(platform):\n",
    "    \n",
    "    total = 0\n",
    "    \n",
    "    for i in range(len(listeGames)):\n",
    "    \n",
    "        if listeGames[i][2] == platform:\n",
    "            \n",
    "            total += 1\n",
    "            \n",
    "    return total / len(listeGames) * 100\n",
    "\n",
    "def getGamesByPlatform_sqldf(platform):\n",
    "        \n",
    "    return sqldf.run(\"SELECT * FROM df WHERE Platform = '\" + platform + \"'\")\n",
    "\n",
    "def getMaxSalesJapan_sqldf():\n",
    "    \n",
    "    return sqldf.run(\"SELECT SUM(JP_Sales) FROM df\")\n",
    "\n",
    "def getReleaseSince_sqldf(year):\n",
    "    \n",
    "    return sqldf.run(\"SELECT * FROM df WHERE Year >= \" + str(year))\n",
    "\n",
    "def getPercentageGameByPlatform_sqldf(platform):\n",
    "    \n",
    "    value = sqldf.run(\"SELECT COUNT(*) FROM df WHERE Platform = '\" + platform + \"'\").values\n",
    "    total = sqldf.run(\"SELECT COUNT(*) FROM df\").values\n",
    "    \n",
    "    calcul = value / total * 100\n",
    "\n",
    "    return calcul\n",
    "\n",
    "print(getPercentageGameByPlatform_sqldf('Wii'))"
   ]
  }
 ],
 "metadata": {
  "kernelspec": {
   "display_name": "course-venv",
   "language": "python",
   "name": "python3"
  },
  "language_info": {
   "codemirror_mode": {
    "name": "ipython",
    "version": 3
   },
   "file_extension": ".py",
   "mimetype": "text/x-python",
   "name": "python",
   "nbconvert_exporter": "python",
   "pygments_lexer": "ipython3",
   "version": "3.11.3"
  }
 },
 "nbformat": 4,
 "nbformat_minor": 2
}
